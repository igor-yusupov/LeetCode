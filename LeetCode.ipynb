{
 "cells": [
  {
   "cell_type": "markdown",
   "metadata": {},
   "source": [
    "# Задачи с Leetcode"
   ]
  },
  {
   "cell_type": "markdown",
   "metadata": {},
   "source": [
    "## Задача 46 \n",
    "https://leetcode.com/problems/permutations/\n",
    "### Дан массив целых чисел, требуется вернуть всевозможные перестановки чисел\n",
    "Алгоритм: \n",
    "- решаем рекурсивно\n",
    "- используем enumerate\n",
    "- берем каждый элемент n и создаем массив [n]  + p, где p это или массив созданный искомой функцией из массива, полученного из исходного но с удалением элемента n, или пустой массив"
   ]
  },
  {
   "cell_type": "code",
   "execution_count": 1,
   "metadata": {},
   "outputs": [],
   "source": [
    "class Solution:\n",
    "    def permute(self, nums):\n",
    "        return [[n] + p \n",
    "                for i, n in enumerate(nums)\n",
    "                for p in self.permute(nums[:i] + nums[i+1:])] or [[]]"
   ]
  },
  {
   "cell_type": "markdown",
   "metadata": {},
   "source": [
    "## Задача 202 \"Счастливое число\"\n",
    "https://leetcode.com/problems/happy-number/submissions/\n",
    "### Дано число, рекурсивно вычисляем его сумму квадратов цифр, если получили 1 то число счастливое, если не получаем то, нет. Требуется проверить, является ли число счастливым\n",
    "Алгоритм (цель найти зацикливание): \n",
    "- заводим множество и добавляем это число\n",
    "- начинаем бесконечный цикл: если сумма квадратов равна 1, то возвращаем True, если нет, то числу приписываем значение суммы квадратов и добавляем во множество. если число встречает во множестве, то возвращаем False"
   ]
  },
  {
   "cell_type": "code",
   "execution_count": 2,
   "metadata": {},
   "outputs": [],
   "source": [
    "class Solution:\n",
    "    def isHappy(self, n: int) -> bool:\n",
    "        a = set()\n",
    "        while 1:\n",
    "            a.add(n)\n",
    "            n = sum([int(i)**2 for i in str(n)])\n",
    "            if n == 1:\n",
    "                return True\n",
    "            if n in a:\n",
    "                return False"
   ]
  },
  {
   "cell_type": "markdown",
   "metadata": {},
   "source": [
    "# Задача 118 \"Треугольник Паскаля\"\n",
    "https://leetcode.com/problems/pascals-triangle/\n",
    "### На вход подается натуральное число, требуется вывести треугольник Паскаля\n",
    "Алогоритм:\n",
    "- строим двумерный массив из нулей\n",
    "- первый столбец и диагональ заполняем единицами\n",
    "- остальные ячейки заполняем согласно правилу, по которому строится треугольник Паскался\n",
    "- строки матрицы без нулей являются ответом"
   ]
  },
  {
   "cell_type": "code",
   "execution_count": 3,
   "metadata": {},
   "outputs": [],
   "source": [
    "class Solution:\n",
    "    def generate(self, numRows: int):\n",
    "        a = [[0] * numRows for i in range(numRows)]\n",
    "        for i in range(numRows):\n",
    "            a[i][0] = 1\n",
    "            a[i][i] = 1\n",
    "        for i in range(1, numRows):\n",
    "            for j in range(1, numRows):\n",
    "                a[i][j] = a[i-1][j-1] + a[i-1][j]\n",
    "        for i in range(numRows):\n",
    "            a[i] = list(filter(lambda x: x != 0, a[i]))\n",
    "        return a"
   ]
  },
  {
   "cell_type": "code",
   "execution_count": null,
   "metadata": {},
   "outputs": [],
   "source": []
  }
 ],
 "metadata": {
  "kernelspec": {
   "display_name": "Python 3",
   "language": "python",
   "name": "python3"
  },
  "language_info": {
   "codemirror_mode": {
    "name": "ipython",
    "version": 3
   },
   "file_extension": ".py",
   "mimetype": "text/x-python",
   "name": "python",
   "nbconvert_exporter": "python",
   "pygments_lexer": "ipython3",
   "version": "3.7.4"
  }
 },
 "nbformat": 4,
 "nbformat_minor": 2
}
